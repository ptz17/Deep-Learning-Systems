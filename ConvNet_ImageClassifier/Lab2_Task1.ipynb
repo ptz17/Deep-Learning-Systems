{
 "cells": [
  {
   "cell_type": "code",
   "execution_count": 3,
   "metadata": {},
   "outputs": [
    {
     "name": "stdout",
     "output_type": "stream",
     "text": [
      "(80, 4) (20, 4)\n"
     ]
    }
   ],
   "source": [
    "import tensorflow as tf\n",
    "from tensorflow.keras.layers import Dense, Flatten, Conv2D, BatchNormalization, MaxPool2D\n",
    "from tensorflow.keras import Model\n",
    "from numpy import *\n",
    "import matplotlib.pyplot as plt\n",
    "\n",
    "# Task 1 (5 pts)\n",
    "# Re-do Lab 1 Task 1 (dataset-1.csv) using Tensorflow Keras package\n",
    "#\n",
    "# Requirement: \n",
    "#   a) Build a two layer model using tf.keras.models.Sequential, and use linear act function in HIDDEN layer \n",
    "#   b) Using default SGD optimizer for training.\n",
    "#   c) Evaluate your model using model.evaluate\n",
    "#   d) Repeat training and testing by adding ReLU act in your HIDDEN layer \n",
    "\n",
    "\n",
    "# Extract data from dataset-1.csv\n",
    "data = genfromtxt('dataset-1.csv', delimiter=',')\n",
    "random.seed(0)\n",
    "random.shuffle(data)\n",
    "\n",
    "# Separating extracted data into training and test data\n",
    "x_train = data[0:80,0:4]\n",
    "y_train = data[0:80,4:]\n",
    "x_test = data[80:,0:4]\n",
    "y_test = data[80:,4:]\n",
    "#print(x_train.shape, x_test.shape)"
   ]
  },
  {
   "cell_type": "code",
   "execution_count": 133,
   "metadata": {
    "scrolled": true
   },
   "outputs": [
    {
     "name": "stdout",
     "output_type": "stream",
     "text": [
      "Model: \"sequential_93\"\n",
      "_________________________________________________________________\n",
      "Layer (type)                 Output Shape              Param #   \n",
      "=================================================================\n",
      "dense_186 (Dense)            (None, 32)                160       \n",
      "_________________________________________________________________\n",
      "dense_187 (Dense)            (None, 1)                 33        \n",
      "=================================================================\n",
      "Total params: 193\n",
      "Trainable params: 193\n",
      "Non-trainable params: 0\n",
      "_________________________________________________________________\n",
      "None\n",
      "Train on 80 samples\n",
      "Epoch 1/10\n",
      "80/80 [==============================] - 0s 3ms/sample - loss: 1.6388 - accuracy: 0.5000\n",
      "Epoch 2/10\n",
      "80/80 [==============================] - 0s 83us/sample - loss: 0.8702 - accuracy: 0.5000\n",
      "Epoch 3/10\n",
      "80/80 [==============================] - 0s 178us/sample - loss: 0.7071 - accuracy: 0.5375\n",
      "Epoch 4/10\n",
      "80/80 [==============================] - 0s 174us/sample - loss: 0.6579 - accuracy: 0.5000\n",
      "Epoch 5/10\n",
      "80/80 [==============================] - 0s 154us/sample - loss: 0.6202 - accuracy: 0.9875\n",
      "Epoch 6/10\n",
      "80/80 [==============================] - 0s 87us/sample - loss: 0.5852 - accuracy: 1.0000\n",
      "Epoch 7/10\n",
      "80/80 [==============================] - 0s 227us/sample - loss: 0.5512 - accuracy: 1.0000\n",
      "Epoch 8/10\n",
      "80/80 [==============================] - 0s 137us/sample - loss: 0.5214 - accuracy: 1.0000\n",
      "Epoch 9/10\n",
      "80/80 [==============================] - 0s 185us/sample - loss: 0.4966 - accuracy: 1.0000\n",
      "Epoch 10/10\n",
      "80/80 [==============================] - 0s 189us/sample - loss: 0.4696 - accuracy: 1.0000\n",
      "20/20 - 0s - loss: 0.4536 - accuracy: 1.0000\n"
     ]
    },
    {
     "data": {
      "text/plain": [
       "[0.4536131024360657, 1.0]"
      ]
     },
     "execution_count": 133,
     "metadata": {},
     "output_type": "execute_result"
    }
   ],
   "source": [
    "# Model 1\n",
    "model = tf.keras.models.Sequential([ \n",
    "            #Flatten(input_shape = (4, )), \n",
    "            Dense(32, input_dim=4, activation='linear'), # hidden layer (32 nuerons)\n",
    "            Dense(1, activation='sigmoid')  # output layer\n",
    "])\n",
    "\n",
    "model.compile(optimizer='sgd', loss='binary_crossentropy',metrics=['accuracy'])\n",
    "print(model.summary())\n",
    "\n",
    "model.fit(x_train, y_train, epochs=10, \n",
    "          batch_size=64,              \n",
    "          verbose=1, shuffle=True, validation_freq=1)\n",
    "\n",
    "model.evaluate(x_test,  y_test, verbose=2)"
   ]
  },
  {
   "cell_type": "code",
   "execution_count": 1,
   "metadata": {},
   "outputs": [
    {
     "ename": "NameError",
     "evalue": "name 'tf' is not defined",
     "output_type": "error",
     "traceback": [
      "\u001b[0;31m---------------------------------------------------------------------------\u001b[0m",
      "\u001b[0;31mNameError\u001b[0m                                 Traceback (most recent call last)",
      "\u001b[0;32m<ipython-input-1-dd5f579bff49>\u001b[0m in \u001b[0;36m<module>\u001b[0;34m\u001b[0m\n\u001b[1;32m      1\u001b[0m \u001b[0;31m# Model 2\u001b[0m\u001b[0;34m\u001b[0m\u001b[0;34m\u001b[0m\u001b[0;34m\u001b[0m\u001b[0m\n\u001b[0;32m----> 2\u001b[0;31m model2 = tf.keras.models.Sequential([\n\u001b[0m\u001b[1;32m      3\u001b[0m     \u001b[0mDense\u001b[0m\u001b[0;34m(\u001b[0m\u001b[0;36m32\u001b[0m\u001b[0;34m,\u001b[0m \u001b[0minput_dim\u001b[0m\u001b[0;34m=\u001b[0m\u001b[0;36m4\u001b[0m\u001b[0;34m,\u001b[0m \u001b[0mactivation\u001b[0m\u001b[0;34m=\u001b[0m\u001b[0;34m'relu'\u001b[0m\u001b[0;34m)\u001b[0m\u001b[0;34m,\u001b[0m \u001b[0;31m# hidden layer (32 nuerons)\u001b[0m\u001b[0;34m\u001b[0m\u001b[0;34m\u001b[0m\u001b[0m\n\u001b[1;32m      4\u001b[0m     \u001b[0mBatchNormalization\u001b[0m\u001b[0;34m(\u001b[0m\u001b[0;34m)\u001b[0m\u001b[0;34m,\u001b[0m\u001b[0;34m\u001b[0m\u001b[0;34m\u001b[0m\u001b[0m\n\u001b[1;32m      5\u001b[0m     \u001b[0mDense\u001b[0m\u001b[0;34m(\u001b[0m\u001b[0;36m1\u001b[0m\u001b[0;34m,\u001b[0m \u001b[0mactivation\u001b[0m\u001b[0;34m=\u001b[0m\u001b[0;34m'sigmoid'\u001b[0m\u001b[0;34m)\u001b[0m  \u001b[0;31m# output layer\u001b[0m\u001b[0;34m\u001b[0m\u001b[0;34m\u001b[0m\u001b[0m\n",
      "\u001b[0;31mNameError\u001b[0m: name 'tf' is not defined"
     ]
    }
   ],
   "source": [
    "# Model 2\n",
    "model2 = tf.keras.models.Sequential([\n",
    "    Dense(32, input_dim=4, activation='relu'), # hidden layer (32 nuerons) \n",
    "    BatchNormalization(),\n",
    "    Dense(1, activation='sigmoid')  # output layer\n",
    "])\n",
    "\n",
    "model2.compile(optimizer='adam', loss='MSE',metrics=['accuracy'])\n",
    "print(model2.summary())\n",
    "\n",
    "model2.fit(x_train, y_train, epochs=10, \n",
    "          batch_size=64,\n",
    "          verbose=1, shuffle=True, validation_freq=1)\n",
    "\n",
    "model2.evaluate(x_test, y_test, verbose=2)"
   ]
  },
  {
   "cell_type": "code",
   "execution_count": null,
   "metadata": {},
   "outputs": [],
   "source": []
  }
 ],
 "metadata": {
  "kernelspec": {
   "display_name": "Python 3",
   "language": "python",
   "name": "python3"
  },
  "language_info": {
   "codemirror_mode": {
    "name": "ipython",
    "version": 3
   },
   "file_extension": ".py",
   "mimetype": "text/x-python",
   "name": "python",
   "nbconvert_exporter": "python",
   "pygments_lexer": "ipython3",
   "version": "3.6.10"
  }
 },
 "nbformat": 4,
 "nbformat_minor": 4
}
