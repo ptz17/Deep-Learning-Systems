{
 "cells": [
  {
   "cell_type": "code",
   "execution_count": 32,
   "metadata": {},
   "outputs": [
    {
     "name": "stdout",
     "output_type": "stream",
     "text": [
      "(60000, 28, 28, 1) (10000, 28, 28, 1)\n",
      "the label of this image is 5 \n"
     ]
    },
    {
     "data": {
      "image/png": "[encoded data removed]",
      "text/plain": [
       "<Figure size 432x288 with 1 Axes>"
      ]
     },
     "metadata": {
      "needs_background": "light"
     },
     "output_type": "display_data"
    }
   ],
   "source": [
    "import tensorflow as tf\n",
    "from tensorflow.keras.layers import Dense, Flatten, Conv2D, BatchNormalization, MaxPool2D\n",
    "from tensorflow.keras import Model\n",
    "from numpy import *\n",
    "import matplotlib.pyplot as plt\n",
    "\n",
    "# Task 2 (5 pts)\n",
    "# Image classifier (MNIST) using ConvNet\n",
    "#\n",
    "# Requirement: \n",
    "#   a) Build ConvNet model using Tensorflow Keras package\n",
    "#   b) Use tf.keras.models.Sequential to build a Conv -> MaxPool -> Conv -> MaxPool -> Dense -> Dense model.\n",
    "#       print out your ConvNet using model.summary\n",
    "#   c) Train your model using TWO different optimizers, and Evaluate your models using model.evaluate\n",
    "#   d) Evalaute single image using model.predict. \n",
    "#     Specifically, plot out the input image in Jupyter, print the output of model.predict, and finalize the label\n",
    "\n",
    "# Create inputs and labels for training and testing sets using MNIST\n",
    "(x_train, y_train), (x_test, y_test) = tf.keras.datasets.mnist.load_data()\n",
    "x_train = x_train.reshape(x_train.shape[0], 28, 28, 1)\n",
    "x_test = x_test.reshape(x_test.shape[0], 28, 28, 1)\n",
    "x_train, x_test = x_train / 255.0, x_test / 255.0\n",
    "print(x_train.shape, x_test.shape)\n",
    "\n",
    "# Sample Image Test\n",
    "sample1 = x_train[0].reshape(28,28)\n",
    "plt.gray()\n",
    "plt.imshow(sample1)\n",
    "print(\"the label of this image is %d \" % y_train[0])\n",
    "\n",
    "# Accumulating data into an official training and testing data set\n",
    "train_ds = tf.data.Dataset.from_tensor_slices((x_train, y_train)).shuffle(10000).batch(32)\n",
    "test_ds = tf.data.Dataset.from_tensor_slices((x_test, y_test)).batch(32)"
   ]
  },
  {
   "cell_type": "code",
   "execution_count": 33,
   "metadata": {},
   "outputs": [
    {
     "name": "stdout",
     "output_type": "stream",
     "text": [
      "Model: \"sequential_8\"\n",
      "_________________________________________________________________\n",
      "Layer (type)                 Output Shape              Param #   \n",
      "=================================================================\n",
      "conv2d_18 (Conv2D)           (None, 28, 28, 28)        280       \n",
      "_________________________________________________________________\n",
      "max_pooling2d_17 (MaxPooling (None, 14, 14, 28)        0         \n",
      "_________________________________________________________________\n",
      "conv2d_19 (Conv2D)           (None, 14, 14, 56)        14168     \n",
      "_________________________________________________________________\n",
      "max_pooling2d_18 (MaxPooling (None, 7, 7, 56)          0         \n",
      "_________________________________________________________________\n",
      "flatten_5 (Flatten)          (None, 2744)              0         \n",
      "_________________________________________________________________\n",
      "dense_16 (Dense)             (None, 32)                87840     \n",
      "_________________________________________________________________\n",
      "dense_17 (Dense)             (None, 10)                330       \n",
      "=================================================================\n",
      "Total params: 102,618\n",
      "Trainable params: 102,618\n",
      "Non-trainable params: 0\n",
      "_________________________________________________________________\n",
      "None\n",
      "Train on 60000 samples\n",
      "Epoch 1/5\n",
      "60000/60000 [==============================] - 41s 678us/sample - loss: 0.2039 - accuracy: 0.9379\n",
      "Epoch 2/5\n",
      "60000/60000 [==============================] - 37s 620us/sample - loss: 0.0633 - accuracy: 0.9808\n",
      "Epoch 3/5\n",
      "60000/60000 [==============================] - 36s 596us/sample - loss: 0.0451 - accuracy: 0.9861\n",
      "Epoch 4/5\n",
      "60000/60000 [==============================] - 36s 601us/sample - loss: 0.0342 - accuracy: 0.9893\n",
      "Epoch 5/5\n",
      "60000/60000 [==============================] - 37s 624us/sample - loss: 0.0266 - accuracy: 0.9914\n",
      "10000/10000 - 2s - loss: 0.0588 - accuracy: 0.9826\n"
     ]
    },
    {
     "data": {
      "text/plain": [
       "[0.05882850523905363, 0.9826]"
      ]
     },
     "execution_count": 33,
     "metadata": {},
     "output_type": "execute_result"
    }
   ],
   "source": [
    "# ConvNet Model\n",
    "model = tf.keras.models.Sequential([\n",
    "    Conv2D(28, kernel_size=(3,3), input_shape=(28, 28, 1), padding='same'),\n",
    "    MaxPool2D(pool_size=2, strides=2),\n",
    "    Conv2D(56, kernel_size=(3,3), padding='same'),\n",
    "    MaxPool2D(pool_size=2, strides=2),\n",
    "    Flatten(),\n",
    "    Dense(32, input_dim=4, activation='relu'), # hidden layer (32 nuerons) \n",
    "    #BatchNormalization(),\n",
    "    Dense(10, activation='softmax')  # output layer\n",
    "])\n",
    "print(model.summary())\n",
    "\n",
    "#Optimizer 1\n",
    "model.compile(optimizer='adam', loss='sparse_categorical_crossentropy',metrics=['accuracy'])\n",
    "\n",
    "model.fit(x_train, y_train, epochs=5, \n",
    "          batch_size=64,\n",
    "          verbose=1, shuffle=True, validation_freq=1)\n",
    "\n",
    "model.evaluate(x_test, y_test, verbose=2)"
   ]
  },
  {
   "cell_type": "code",
   "execution_count": 34,
   "metadata": {},
   "outputs": [
    {
     "name": "stdout",
     "output_type": "stream",
     "text": [
      "Train on 60000 samples\n",
      "Epoch 1/5\n",
      "60000/60000 [==============================] - 36s 603us/sample - loss: 0.0147 - accuracy: 0.9955\n",
      "Epoch 2/5\n",
      "60000/60000 [==============================] - 37s 619us/sample - loss: 0.0118 - accuracy: 0.9967\n",
      "Epoch 3/5\n",
      "60000/60000 [==============================] - 38s 626us/sample - loss: 0.0107 - accuracy: 0.9972\n",
      "Epoch 4/5\n",
      "60000/60000 [==============================] - 34s 567us/sample - loss: 0.0100 - accuracy: 0.9972\n",
      "Epoch 5/5\n",
      "60000/60000 [==============================] - 37s 618us/sample - loss: 0.0094 - accuracy: 0.9976\n",
      "10000/10000 - 2s - loss: 0.0393 - accuracy: 0.9884\n"
     ]
    },
    {
     "data": {
      "text/plain": [
       "[0.03931828884310526, 0.9884]"
      ]
     },
     "execution_count": 34,
     "metadata": {},
     "output_type": "execute_result"
    }
   ],
   "source": [
    "#Optimizer 2\n",
    "model.compile(optimizer='sgd', loss='sparse_categorical_crossentropy',metrics=['accuracy'])\n",
    "\n",
    "model.fit(x_train, y_train, epochs=5, \n",
    "          batch_size=64,\n",
    "          verbose=1, shuffle=True, validation_freq=1)\n",
    "\n",
    "model.evaluate(x_test, y_test, verbose=2)"
   ]
  },
  {
   "cell_type": "code",
   "execution_count": 42,
   "metadata": {},
   "outputs": [
    {
     "name": "stdout",
     "output_type": "stream",
     "text": [
      "the label of this image is 3 \n",
      "\n"
     ]
    },
    {
     "data": {
      "image/png": "[encoded data removed]",
      "text/plain": [
       "<Figure size 432x288 with 1 Axes>"
      ]
     },
     "metadata": {
      "needs_background": "light"
     },
     "output_type": "display_data"
    }
   ],
   "source": [
    "# Evaluate single image\n",
    "sample2 = x_test[500].reshape(28,28)\n",
    "plt.gray()\n",
    "plt.imshow(sample2)\n",
    "print(\"the label of this image is %d \\n\" % y_test[500])"
   ]
  },
  {
   "cell_type": "code",
   "execution_count": 43,
   "metadata": {},
   "outputs": [
    {
     "name": "stdout",
     "output_type": "stream",
     "text": [
      "Softmax [[7.9750215e-20 2.8361879e-16 1.4560811e-13 1.0000000e+00 9.0221198e-17\n",
      "  2.9632132e-13 3.0626177e-23 5.0560350e-15 2.1870472e-12 1.8016422e-09]]\n",
      "Label 3\n"
     ]
    }
   ],
   "source": [
    "# Predit single image\n",
    "output = model.predict(x_test[500].reshape(1, 28, 28, 1))\n",
    "print(\"Softmax\", output) \n",
    "print(\"Label\", argmax(output))"
   ]
  },
  {
   "cell_type": "code",
   "execution_count": 63,
   "metadata": {},
   "outputs": [
    {
     "name": "stdout",
     "output_type": "stream",
     "text": [
      "the label of this image is 0 \n",
      "\n",
      "(420, 364, 4)\n",
      "(28, 28, 1)\n",
      "\n",
      " Softmax [[9.98831809e-01 1.65469743e-12 2.05645975e-07 1.36529819e-08\n",
      "  8.64138448e-12 7.14677340e-09 7.01657186e-08 1.09611396e-10\n",
      "  5.42484668e-06 1.16256054e-03]]\n",
      "Label 0\n"
     ]
    },
    {
     "data": {
      "image/png": "[encoded data removed]",
      "text/plain": [
       "<Figure size 432x288 with 1 Axes>"
      ]
     },
     "metadata": {
      "needs_background": "light"
     },
     "output_type": "display_data"
    }
   ],
   "source": [
    "# Task 3\n",
    "# Test your ConvNet trained in Task 2 with your own digit writings.\n",
    "# Requirement\n",
    "# a) Inference on your own image using model.predict and then generate the labels\n",
    "# b) Plot your original writing (img) and the resized image (input of the model).\n",
    "# c) Test 10 images which cover 0 - 9.\n",
    "\n",
    "from matplotlib.image import imread\n",
    "from IPython.display import Image\n",
    "\n",
    "# ZERO\n",
    "Image(filename='zero.png') \n",
    "\n",
    "img = imread('zero.png')\n",
    "print(\"the label of this image is 0 \\n\")\n",
    "print(img.shape)\n",
    "myimg = tf.image.resize(img.reshape(img.shape), (28,28))\n",
    "grascale_img = tf.image.rgb_to_grayscale(myimg[:,:,:3])\n",
    "plt.imshow(grascale_img.numpy().reshape(28,28))\n",
    "print(grascale_img.shape)\n",
    "\n",
    "output = model.predict(grascale_img.numpy().reshape(1,28,28,1))\n",
    "print(\"\\n Softmax\",output) \n",
    "print(\"Label\", argmax(output))"
   ]
  },
  {
   "cell_type": "code",
   "execution_count": 64,
   "metadata": {},
   "outputs": [
    {
     "name": "stdout",
     "output_type": "stream",
     "text": [
      "the label of this image is 1 \n",
      "\n",
      "(450, 344, 4)\n",
      "(28, 28, 1)\n",
      "\n",
      " Softmax [[6.6321959e-10 9.9999809e-01 1.1827020e-06 8.8622151e-08 1.9209372e-07\n",
      "  1.7390064e-08 6.3311449e-09 2.2441878e-08 3.8046855e-07 2.9460381e-08]]\n",
      "Label 1\n"
     ]
    },
    {
     "data": {
      "image/png": "[encoded data removed]",
      "text/plain": [
       "<Figure size 432x288 with 1 Axes>"
      ]
     },
     "metadata": {
      "needs_background": "light"
     },
     "output_type": "display_data"
    }
   ],
   "source": [
    "# ONE\n",
    "Image(filename='one.png') \n",
    "\n",
    "img = imread('one.png')\n",
    "print(\"the label of this image is 1 \\n\")\n",
    "print(img.shape)\n",
    "myimg = tf.image.resize(img.reshape(img.shape), (28,28))\n",
    "grascale_img = tf.image.rgb_to_grayscale(myimg[:,:,:3])\n",
    "plt.imshow(grascale_img.numpy().reshape(28,28))\n",
    "print(grascale_img.shape)\n",
    "\n",
    "output = model.predict(grascale_img.numpy().reshape(1,28,28,1))\n",
    "print(\"\\n Softmax\",output) \n",
    "print(\"Label\", argmax(output))"
   ]
  },
  {
   "cell_type": "code",
   "execution_count": 65,
   "metadata": {},
   "outputs": [
    {
     "name": "stdout",
     "output_type": "stream",
     "text": [
      "the label of this image is 2 \n",
      "\n",
      "(458, 394, 4)\n",
      "(28, 28, 1)\n",
      "\n",
      " Softmax [[1.1585841e-13 7.5171475e-12 1.0000000e+00 1.5360176e-12 1.1210271e-17\n",
      "  2.0441205e-19 4.7710018e-13 6.8515060e-16 1.2100325e-11 4.8252939e-15]]\n",
      "Label 2\n"
     ]
    },
    {
     "data": {
      "image/png": "[encoded data removed]",
      "text/plain": [
       "<Figure size 432x288 with 1 Axes>"
      ]
     },
     "metadata": {
      "needs_background": "light"
     },
     "output_type": "display_data"
    }
   ],
   "source": [
    "# TWO\n",
    "Image(filename='two.png') \n",
    "\n",
    "img = imread('two.png')\n",
    "print(\"the label of this image is 2 \\n\")\n",
    "print(img.shape)\n",
    "myimg = tf.image.resize(img.reshape(img.shape), (28,28))\n",
    "grascale_img = tf.image.rgb_to_grayscale(myimg[:,:,:3])\n",
    "plt.imshow(grascale_img.numpy().reshape(28,28))\n",
    "print(grascale_img.shape)\n",
    "\n",
    "output = model.predict(grascale_img.numpy().reshape(1,28,28,1))\n",
    "print(\"\\n Softmax\",output) \n",
    "print(\"Label\", argmax(output))"
   ]
  },
  {
   "cell_type": "code",
   "execution_count": 66,
   "metadata": {},
   "outputs": [
    {
     "name": "stdout",
     "output_type": "stream",
     "text": [
      "the label of this image is 3 \n",
      "\n",
      "(506, 418, 4)\n",
      "(28, 28, 1)\n",
      "\n",
      " Softmax [[2.2020529e-16 5.9261855e-15 1.8319312e-09 1.0000000e+00 5.1574427e-17\n",
      "  9.2766778e-10 1.4802634e-14 9.1903677e-13 3.9988279e-08 2.4814952e-11]]\n",
      "Label 3\n"
     ]
    },
    {
     "data": {
      "image/png": "[encoded data removed]",
      "text/plain": [
       "<Figure size 432x288 with 1 Axes>"
      ]
     },
     "metadata": {
      "needs_background": "light"
     },
     "output_type": "display_data"
    }
   ],
   "source": [
    "# THREE\n",
    "Image(filename='three.png') \n",
    "\n",
    "img = imread('three.png')\n",
    "print(\"the label of this image is 3 \\n\")\n",
    "print(img.shape)\n",
    "myimg = tf.image.resize(img.reshape(img.shape), (28,28))\n",
    "grascale_img = tf.image.rgb_to_grayscale(myimg[:,:,:3])\n",
    "plt.imshow(grascale_img.numpy().reshape(28,28))\n",
    "print(grascale_img.shape)\n",
    "\n",
    "output = model.predict(grascale_img.numpy().reshape(1,28,28,1))\n",
    "print(\"\\n Softmax\",output) \n",
    "print(\"Label\", argmax(output))"
   ]
  },
  {
   "cell_type": "code",
   "execution_count": 67,
   "metadata": {},
   "outputs": [
    {
     "name": "stdout",
     "output_type": "stream",
     "text": [
      "the label of this image is 4 \n",
      "\n",
      "(542, 474, 4)\n",
      "(28, 28, 1)\n",
      "\n",
      " Softmax [[9.9051592e-15 2.4766245e-10 6.8614579e-11 9.9899244e-09 9.9999928e-01\n",
      "  4.0381121e-07 7.5571762e-09 1.9484747e-11 3.0403228e-07 3.0733947e-08]]\n",
      "Label 4\n"
     ]
    },
    {
     "data": {
      "image/png": "[encoded data removed]",
      "text/plain": [
       "<Figure size 432x288 with 1 Axes>"
      ]
     },
     "metadata": {
      "needs_background": "light"
     },
     "output_type": "display_data"
    }
   ],
   "source": [
    "# FOUR\n",
    "Image(filename='four.png') \n",
    "\n",
    "img = imread('four.png')\n",
    "print(\"the label of this image is 4 \\n\")\n",
    "print(img.shape)\n",
    "myimg = tf.image.resize(img.reshape(img.shape), (28,28))\n",
    "grascale_img = tf.image.rgb_to_grayscale(myimg[:,:,:3])\n",
    "plt.imshow(grascale_img.numpy().reshape(28,28))\n",
    "print(grascale_img.shape)\n",
    "\n",
    "output = model.predict(grascale_img.numpy().reshape(1,28,28,1))\n",
    "print(\"\\n Softmax\",output) \n",
    "print(\"Label\", argmax(output))"
   ]
  },
  {
   "cell_type": "code",
   "execution_count": 68,
   "metadata": {},
   "outputs": [
    {
     "name": "stdout",
     "output_type": "stream",
     "text": [
      "the label of this image is 5 \n",
      "\n",
      "(438, 358, 4)\n",
      "(28, 28, 1)\n",
      "\n",
      " Softmax [[3.1448510e-15 8.3842210e-19 9.5759501e-13 1.7923809e-04 5.5259344e-16\n",
      "  9.9982005e-01 7.1873052e-07 8.2847667e-09 3.7118399e-09 1.6773559e-08]]\n",
      "Label 5\n"
     ]
    },
    {
     "data": {
      "image/png": "[encoded data removed]",
      "text/plain": [
       "<Figure size 432x288 with 1 Axes>"
      ]
     },
     "metadata": {
      "needs_background": "light"
     },
     "output_type": "display_data"
    }
   ],
   "source": [
    "# FIVE\n",
    "Image(filename='five.png') \n",
    "\n",
    "img = imread('five.png')\n",
    "print(\"the label of this image is 5 \\n\")\n",
    "print(img.shape)\n",
    "myimg = tf.image.resize(img.reshape(img.shape), (28,28))\n",
    "grascale_img = tf.image.rgb_to_grayscale(myimg[:,:,:3])\n",
    "plt.imshow(grascale_img.numpy().reshape(28,28))\n",
    "print(grascale_img.shape)\n",
    "\n",
    "output = model.predict(grascale_img.numpy().reshape(1,28,28,1))\n",
    "print(\"\\n Softmax\",output) \n",
    "print(\"Label\", argmax(output))"
   ]
  },
  {
   "cell_type": "code",
   "execution_count": 69,
   "metadata": {},
   "outputs": [
    {
     "name": "stdout",
     "output_type": "stream",
     "text": [
      "the label of this image is 6 \n",
      "\n",
      "(494, 380, 4)\n",
      "(28, 28, 1)\n",
      "\n",
      " Softmax [[3.17313358e-08 1.25568203e-13 1.96403221e-06 1.27925858e-01\n",
      "  1.58392955e-04 1.54027000e-01 7.17148542e-01 1.02517606e-10\n",
      "  4.26326762e-04 3.11899610e-04]]\n",
      "Label 6\n"
     ]
    },
    {
     "data": {
      "image/png": "[encoded data removed]",
      "text/plain": [
       "<Figure size 432x288 with 1 Axes>"
      ]
     },
     "metadata": {
      "needs_background": "light"
     },
     "output_type": "display_data"
    }
   ],
   "source": [
    "# SIX\n",
    "Image(filename='six.png') \n",
    "\n",
    "img = imread('six.png')\n",
    "print(\"the label of this image is 6 \\n\")\n",
    "print(img.shape)\n",
    "myimg = tf.image.resize(img.reshape(img.shape), (28,28))\n",
    "grascale_img = tf.image.rgb_to_grayscale(myimg[:,:,:3])\n",
    "plt.imshow(grascale_img.numpy().reshape(28,28))\n",
    "print(grascale_img.shape)\n",
    "\n",
    "output = model.predict(grascale_img.numpy().reshape(1,28,28,1))\n",
    "print(\"\\n Softmax\",output) \n",
    "print(\"Label\", argmax(output))"
   ]
  },
  {
   "cell_type": "code",
   "execution_count": 77,
   "metadata": {},
   "outputs": [
    {
     "name": "stdout",
     "output_type": "stream",
     "text": [
      "the label of this image is 7 \n",
      "\n",
      "(556, 512, 4)\n",
      "(28, 28, 1)\n",
      "\n",
      " Softmax [[9.9091416e-08 2.3258012e-03 3.0138129e-02 5.8649238e-03 2.5788970e-06\n",
      "  6.2500582e-08 1.8030155e-09 9.6104974e-01 3.3603367e-04 2.8249944e-04]]\n",
      "Label 7\n"
     ]
    },
    {
     "data": {
      "image/png": "[encoded data removed]",
      "text/plain": [
       "<Figure size 432x288 with 1 Axes>"
      ]
     },
     "metadata": {
      "needs_background": "light"
     },
     "output_type": "display_data"
    }
   ],
   "source": [
    "# SEVEN\n",
    "Image(filename='seven.png') \n",
    "\n",
    "img = imread('seven.png')\n",
    "print(\"the label of this image is 7 \\n\")\n",
    "print(img.shape)\n",
    "myimg = tf.image.resize(img.reshape(img.shape), (28,28))\n",
    "grascale_img = tf.image.rgb_to_grayscale(myimg[:,:,:3])\n",
    "plt.imshow(grascale_img.numpy().reshape(28,28))\n",
    "print(grascale_img.shape)\n",
    "\n",
    "output = model.predict(grascale_img.numpy().reshape(1,28,28,1))\n",
    "print(\"\\n Softmax\",output) \n",
    "print(\"Label\", argmax(output))"
   ]
  },
  {
   "cell_type": "code",
   "execution_count": 71,
   "metadata": {},
   "outputs": [
    {
     "name": "stdout",
     "output_type": "stream",
     "text": [
      "the label of this image is 8 \n",
      "\n",
      "(514, 370, 4)\n",
      "(28, 28, 1)\n",
      "\n",
      " Softmax [[1.1382461e-12 7.7268666e-15 2.7048559e-09 9.1654067e-07 4.2193279e-14\n",
      "  7.2550321e-09 8.0345945e-11 1.9319178e-11 9.9999905e-01 7.1583425e-14]]\n",
      "Label 8\n"
     ]
    },
    {
     "data": {
      "image/png": "[encoded data removed]",
      "text/plain": [
       "<Figure size 432x288 with 1 Axes>"
      ]
     },
     "metadata": {
      "needs_background": "light"
     },
     "output_type": "display_data"
    }
   ],
   "source": [
    "# EIGHT\n",
    "Image(filename='eight.png') \n",
    "\n",
    "img = imread('eight.png')\n",
    "print(\"the label of this image is 8 \\n\")\n",
    "print(img.shape)\n",
    "myimg = tf.image.resize(img.reshape(img.shape), (28,28))\n",
    "grascale_img = tf.image.rgb_to_grayscale(myimg[:,:,:3])\n",
    "plt.imshow(grascale_img.numpy().reshape(28,28))\n",
    "print(grascale_img.shape)\n",
    "\n",
    "output = model.predict(grascale_img.numpy().reshape(1,28,28,1))\n",
    "print(\"\\n Softmax\",output) \n",
    "print(\"Label\", argmax(output))"
   ]
  },
  {
   "cell_type": "code",
   "execution_count": 75,
   "metadata": {},
   "outputs": [
    {
     "name": "stdout",
     "output_type": "stream",
     "text": [
      "the label of this image is 9 \n",
      "\n",
      "(566, 432, 4)\n",
      "(28, 28, 1)\n",
      "\n",
      " Softmax [[4.4117977e-11 1.1407169e-08 8.1427174e-07 1.5968834e-03 2.5196081e-01\n",
      "  8.0769360e-06 8.5064213e-09 2.0817353e-07 7.9874866e-02 6.6655833e-01]]\n",
      "Label 9\n"
     ]
    },
    {
     "data": {
      "image/png": "[encoded data removed]",
      "text/plain": [
       "<Figure size 432x288 with 1 Axes>"
      ]
     },
     "metadata": {
      "needs_background": "light"
     },
     "output_type": "display_data"
    }
   ],
   "source": [
    "# NINE\n",
    "Image(filename='nine.png') \n",
    "\n",
    "img = imread('nine.png')\n",
    "print(\"the label of this image is 9 \\n\")\n",
    "print(img.shape)\n",
    "myimg = tf.image.resize(img.reshape(img.shape), (28,28))\n",
    "grascale_img = tf.image.rgb_to_grayscale(myimg[:,:,:3])\n",
    "plt.imshow(grascale_img.numpy().reshape(28,28))\n",
    "print(grascale_img.shape)\n",
    "\n",
    "output = model.predict(grascale_img.numpy().reshape(1,28,28,1))\n",
    "print(\"\\n Softmax\",output) \n",
    "print(\"Label\", argmax(output))"
   ]
  },
  {
   "cell_type": "code",
   "execution_count": null,
   "metadata": {},
   "outputs": [],
   "source": []
  },
  {
   "cell_type": "code",
   "execution_count": null,
   "metadata": {},
   "outputs": [],
   "source": []
  }
 ],
 "metadata": {
  "kernelspec": {
   "display_name": "Python 3",
   "language": "python",
   "name": "python3"
  },
  "language_info": {
   "codemirror_mode": {
    "name": "ipython",
    "version": 3
   },
   "file_extension": ".py",
   "mimetype": "text/x-python",
   "name": "python",
   "nbconvert_exporter": "python",
   "pygments_lexer": "ipython3",
   "version": "3.6.10"
  }
 },
 "nbformat": 4,
 "nbformat_minor": 4
}
